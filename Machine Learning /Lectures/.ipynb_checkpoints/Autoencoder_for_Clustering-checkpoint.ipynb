{
  "cells": [
    {
      "cell_type": "markdown",
      "id": "92f74d36",
      "metadata": {
        "id": "92f74d36"
      },
      "source": [
        "# Autoencoder for Clustering"
      ]
    },
    {
      "cell_type": "code",
      "execution_count": null,
      "id": "249d38d2",
      "metadata": {
        "id": "249d38d2"
      },
      "outputs": [],
      "source": [
        "import torch\n",
        "import torch.nn as nn\n",
        "import torch.optim as optim\n",
        "import numpy as np\n",
        "import matplotlib.pyplot as plt"
      ]
    },
    {
      "cell_type": "code",
      "execution_count": null,
      "id": "d1806ecc",
      "metadata": {
        "id": "d1806ecc"
      },
      "outputs": [],
      "source": [
        "# Generate synthetic 2D data for clustering\n",
        "def generate_data():\n",
        "    cluster_1 = np.random.randn(100, 2) + np.array([2, 2])\n",
        "    cluster_2 = np.random.randn(100, 2) + np.array([-2, -2])\n",
        "    data = np.vstack([cluster_1, cluster_2])\n",
        "    np.random.shuffle(data)\n",
        "    return data"
      ]
    },
    {
      "cell_type": "code",
      "execution_count": null,
      "id": "53d8a316",
      "metadata": {
        "id": "53d8a316"
      },
      "outputs": [],
      "source": [
        "# Neural Network Autoencoder for clustering\n",
        "class Autoencoder(nn.Module):\n",
        "    def __init__(self):\n",
        "        super(Autoencoder, self).__init__()\n",
        "        self.encoder = nn.Sequential(\n",
        "            nn.Linear(2, 4),\n",
        "            nn.ReLU(),\n",
        "            nn.Linear(4, 2)\n",
        "        )\n",
        "        self.decoder = nn.Sequential(\n",
        "            nn.Linear(2, 4),\n",
        "            nn.ReLU(),\n",
        "            nn.Linear(4, 2)\n",
        "        )\n",
        "\n",
        "    def forward(self, x):\n",
        "        encoded = self.encoder(x)\n",
        "        decoded = self.decoder(encoded)\n",
        "        return encoded, decoded\n"
      ]
    },
    {
      "cell_type": "code",
      "execution_count": null,
      "id": "77fd8679",
      "metadata": {
        "id": "77fd8679"
      },
      "outputs": [],
      "source": [
        "# Prepare data\n",
        "data = generate_data()\n",
        "data_tensor = torch.FloatTensor(data)"
      ]
    },
    {
      "cell_type": "code",
      "execution_count": null,
      "id": "295301eb",
      "metadata": {
        "id": "295301eb"
      },
      "outputs": [],
      "source": [
        "# Visualize the randomly generated data\n",
        "plt.figure(figsize=(8, 6))\n",
        "plt.scatter(data[:, 0], data[:, 1], c='gray', marker='o', label='Data points')\n",
        "plt.title('Randomly Generated Data')\n",
        "plt.xlabel('Dimension 1')\n",
        "plt.ylabel('Dimension 2')\n",
        "plt.show()"
      ]
    },
    {
      "cell_type": "code",
      "execution_count": null,
      "id": "8fb6eb8b",
      "metadata": {
        "id": "8fb6eb8b"
      },
      "outputs": [],
      "source": [
        "# Initialize model, loss function, and optimizer\n",
        "model = Autoencoder()\n",
        "criterion = nn.MSELoss()\n",
        "optimizer = optim.Adam(model.parameters(), lr=0.01)"
      ]
    },
    {
      "cell_type": "code",
      "execution_count": null,
      "id": "f4043bb6",
      "metadata": {
        "id": "f4043bb6"
      },
      "outputs": [],
      "source": [
        "# Training loop\n",
        "epochs = 1000\n",
        "for epoch in range(epochs):\n",
        "    optimizer.zero_grad()\n",
        "    encoded, decoded = model(data_tensor)\n",
        "    loss = criterion(decoded, data_tensor)\n",
        "    loss.backward()\n",
        "    optimizer.step()\n",
        "\n",
        "    if (epoch + 1) % 100 == 0:\n",
        "        print(f\"Epoch [{epoch + 1}/{epochs}], Loss: {loss.item():.4f}\")\n"
      ]
    },
    {
      "cell_type": "code",
      "execution_count": null,
      "id": "75cfe052",
      "metadata": {
        "id": "75cfe052"
      },
      "outputs": [],
      "source": [
        "# Get the encoded representations\n",
        "encoded_data, _ = model(data_tensor)\n",
        "encoded_data = encoded_data.detach().numpy()\n"
      ]
    },
    {
      "cell_type": "code",
      "execution_count": null,
      "id": "04436a1c",
      "metadata": {
        "id": "04436a1c"
      },
      "outputs": [],
      "source": [
        "# Perform simple clustering based on encoded values\n",
        "cluster_labels = (encoded_data[:, 0] > 0).astype(int)"
      ]
    },
    {
      "cell_type": "code",
      "execution_count": null,
      "id": "e980267f",
      "metadata": {
        "id": "e980267f"
      },
      "outputs": [],
      "source": [
        "# Visualize the results\n",
        "plt.figure(figsize=(8, 6))\n",
        "plt.scatter(data[:, 0], data[:, 1], c=cluster_labels, cmap='viridis', s=50)\n",
        "plt.title(\"Clustering with Autoencoder\")\n",
        "plt.xlabel(\"X1\")\n",
        "plt.ylabel(\"X2\")\n",
        "plt.colorbar(label=\"Cluster\")\n",
        "plt.show()"
      ]
    },
    {
      "cell_type": "code",
      "execution_count": null,
      "id": "5d9ee547",
      "metadata": {
        "id": "5d9ee547"
      },
      "outputs": [],
      "source": []
    }
  ],
  "metadata": {
    "kernelspec": {
      "display_name": "Python 3 (ipykernel)",
      "language": "python",
      "name": "python3"
    },
    "language_info": {
      "codemirror_mode": {
        "name": "ipython",
        "version": 3
      },
      "file_extension": ".py",
      "mimetype": "text/x-python",
      "name": "python",
      "nbconvert_exporter": "python",
      "pygments_lexer": "ipython3",
      "version": "3.10.7"
    },
    "colab": {
      "provenance": []
    }
  },
  "nbformat": 4,
  "nbformat_minor": 5
}