{
  "nbformat": 4,
  "nbformat_minor": 0,
  "metadata": {
    "colab": {
      "provenance": []
    },
    "kernelspec": {
      "name": "python3",
      "display_name": "Python 3"
    },
    "language_info": {
      "name": "python"
    }
  },
  "cells": [
    {
      "cell_type": "markdown",
      "source": [
        "**Connect collab Notebook file with Google Drive.**"
      ],
      "metadata": {
        "id": "VZZv5o1s-h2B"
      }
    },
    {
      "cell_type": "code",
      "execution_count": null,
      "metadata": {
        "id": "w6Cb9gNhUwhf"
      },
      "outputs": [],
      "source": [
        "from google.colab import drive"
      ]
    },
    {
      "cell_type": "markdown",
      "source": [],
      "metadata": {
        "id": "f9BU5nVw8O4O"
      }
    },
    {
      "cell_type": "code",
      "source": [
        "drive.mount('/content/drive')"
      ],
      "metadata": {
        "colab": {
          "base_uri": "https://localhost:8080/"
        },
        "id": "rV5YLFTdVvR1",
        "outputId": "28dd6b29-e2f4-4adc-e3fe-ef50084020b0"
      },
      "execution_count": null,
      "outputs": [
        {
          "output_type": "stream",
          "name": "stdout",
          "text": [
            "Mounted at /content/drive\n"
          ]
        }
      ]
    },
    {
      "cell_type": "markdown",
      "source": [
        "**Import libraries such as numpy, pandas**"
      ],
      "metadata": {
        "id": "s6bcFSXw-orA"
      }
    },
    {
      "cell_type": "code",
      "source": [
        "import numpy as np\n",
        "import pandas as pd\n",
        "import matplotlib.pyplot as piplot"
      ],
      "metadata": {
        "id": "iV4nR-0K-yW5"
      },
      "execution_count": null,
      "outputs": []
    },
    {
      "cell_type": "markdown",
      "source": [
        "**Load the datasets from Drive**"
      ],
      "metadata": {
        "id": "77M95YSS--F5"
      }
    },
    {
      "cell_type": "code",
      "source": [
        "\n",
        "train_data_set = pd.read_csv('/content/drive/MyDrive/ML Data Set/train.csv')\n",
        "test_data_set = pd.read_csv('/content/drive/MyDrive/ML Data Set/test.csv')\n"
      ],
      "metadata": {
        "id": "MkFdRmq-xb-J"
      },
      "execution_count": null,
      "outputs": []
    },
    {
      "cell_type": "markdown",
      "source": [
        "**Display Some Records of Data**"
      ],
      "metadata": {
        "id": "LMh6CGCaycsm"
      }
    },
    {
      "cell_type": "code",
      "source": [
        "print(\"Ten Train Data set examples :\\n\", train_data_set.head(10))\n",
        "print(\"Ten Test Data set examples:\\n\", test_data_set.head(10))"
      ],
      "metadata": {
        "colab": {
          "base_uri": "https://localhost:8080/"
        },
        "id": "2qvGoZLcyipk",
        "outputId": "dfd4b6c9-2d28-4e4c-93fa-8df57ca09934"
      },
      "execution_count": null,
      "outputs": [
        {
          "output_type": "stream",
          "name": "stdout",
          "text": [
            "Ten Train Data set examples :\n",
            "     x          y\n",
            "0  24  21.549452\n",
            "1  50  47.464463\n",
            "2  15  17.218656\n",
            "3  38  36.586398\n",
            "4  87  87.288984\n",
            "5  36  32.463875\n",
            "6  12  10.780897\n",
            "7  81  80.763399\n",
            "8  25  24.612151\n",
            "9   5   6.963319\n",
            "Ten Test Data set examples:\n",
            "     x          y\n",
            "0  77  79.775152\n",
            "1  21  23.177279\n",
            "2  22  25.609262\n",
            "3  20  17.857388\n",
            "4  36  41.849864\n",
            "5  15   9.805235\n",
            "6  62  58.874659\n",
            "7  95  97.617937\n",
            "8  20  18.395127\n",
            "9   5   8.746748\n"
          ]
        }
      ]
    },
    {
      "cell_type": "markdown",
      "source": [
        "**Converting Pandas frame into Numpy Arrays**"
      ],
      "metadata": {
        "id": "9BHempebzQLV"
      }
    },
    {
      "cell_type": "code",
      "source": [
        "X_train = train_data_set['x'].values\n",
        "y_train = train_data_set['y'].values\n",
        "\n",
        "X_test = test_data_set['x'].values\n",
        "y_test = test_data_set['y'].values"
      ],
      "metadata": {
        "id": "GiqK0ajuzXF_"
      },
      "execution_count": null,
      "outputs": []
    },
    {
      "cell_type": "markdown",
      "source": [
        "**Data's Shape**"
      ],
      "metadata": {
        "id": "SLVAbaPdzkZN"
      }
    },
    {
      "cell_type": "code",
      "source": [
        "\n",
        "print(\"Shape of X_train data :\", X_train.shape)\n",
        "print(\"Shape of y_train data :\",  y_train.shape)\n",
        "\n",
        "print(\"Shape of X_test data:\", X_test.shape)\n",
        "print(\"Shape of y_test data:\", y_test.shape)"
      ],
      "metadata": {
        "colab": {
          "base_uri": "https://localhost:8080/"
        },
        "id": "cpbpHq5Szt1J",
        "outputId": "fd4cd546-3e77-47b8-89e9-535dc89a2d6c"
      },
      "execution_count": null,
      "outputs": [
        {
          "output_type": "stream",
          "name": "stdout",
          "text": [
            "Shape of X_train data : (699,)\n",
            "Shape of y_train data : (699,)\n",
            "Shape of X_test data: (300,)\n",
            "Shape of y_test data: (300,)\n"
          ]
        }
      ]
    },
    {
      "cell_type": "markdown",
      "source": [
        "**Trainig**"
      ],
      "metadata": {
        "id": "u0f2BY1l0lI7"
      }
    },
    {
      "cell_type": "code",
      "source": [
        "def hypothesisFn(theta0, theta1, trainigExample):\n",
        "    return theta0 + theta1 * trainigExample"
      ],
      "metadata": {
        "id": "NkuhOLzZ0pa8"
      },
      "execution_count": null,
      "outputs": []
    },
    {
      "cell_type": "code",
      "source": [
        "def cost_computation(theta0, theta1, X, y):\n",
        "    m = len(y)\n",
        "    predicted_y = hypothesisFn(theta0, theta1, X)\n",
        "    return (1/(2*m)) * np.sum((predicted_y - y) ** 2)"
      ],
      "metadata": {
        "id": "wIsjYxCw0sp5"
      },
      "execution_count": null,
      "outputs": []
    },
    {
      "cell_type": "code",
      "source": [
        "theta0_ranges = np.arange(-0.5, 1.6, 0.1)\n",
        "theta1_ranges = np.arange(-0.5, 1.6, 0.1)"
      ],
      "metadata": {
        "id": "UDXn4GbI1ccn"
      },
      "execution_count": null,
      "outputs": []
    },
    {
      "cell_type": "code",
      "source": [
        "optimal_theta0 = 0\n",
        "optimal_theta1 = 0\n",
        "min_cost = float('inf')"
      ],
      "metadata": {
        "id": "7F6ke16G2YSE"
      },
      "execution_count": null,
      "outputs": []
    },
    {
      "cell_type": "code",
      "source": [
        "for theta0 in theta0_ranges:\n",
        "    for theta1 in theta1_ranges:\n",
        "        cost = cost_computation(theta0, theta1, X_train, y_train)\n",
        "        if cost < min_cost:\n",
        "            min_cost = cost\n",
        "            optimal_theta0 = theta0\n",
        "            optimal_theta1 = theta1"
      ],
      "metadata": {
        "id": "gwopsDsn2fD_"
      },
      "execution_count": null,
      "outputs": []
    },
    {
      "cell_type": "code",
      "source": [
        "print(f\"Most Optimal theta0 in selected range: {optimal_theta0}, Optimal theta1 in selected range: {optimal_theta1}, Minimum Cost: {min_cost}\")"
      ],
      "metadata": {
        "colab": {
          "base_uri": "https://localhost:8080/"
        },
        "id": "qsPOitXH3Wod",
        "outputId": "56e0aa44-7dea-456c-c23b-27ae996084d4"
      },
      "execution_count": null,
      "outputs": [
        {
          "output_type": "stream",
          "name": "stdout",
          "text": [
            "Most Optimal theta0 in selected range: -0.10000000000000009, Optimal theta1 in selected range: 0.9999999999999996, Minimum Cost: 3.934383442065976\n"
          ]
        }
      ]
    },
    {
      "cell_type": "markdown",
      "source": [
        "**Predict the output for the test dataset**"
      ],
      "metadata": {
        "id": "2clvywgC347u"
      }
    },
    {
      "cell_type": "code",
      "source": [
        "y_pred = hypothesisFn(optimal_theta0, optimal_theta1, X_test)\n",
        "\n",
        "\n",
        "mse_test = np.mean((y_pred - y_test) ** 2)\n",
        "print(f\"Mean Squared Error on Test Data: {mse_test}\")"
      ],
      "metadata": {
        "colab": {
          "base_uri": "https://localhost:8080/"
        },
        "id": "rTsTemXR38wo",
        "outputId": "de4791a8-db32-43aa-d42b-7a83387b3662"
      },
      "execution_count": null,
      "outputs": [
        {
          "output_type": "stream",
          "name": "stdout",
          "text": [
            "Mean Squared Error on Test Data: 9.466407919454753\n"
          ]
        }
      ]
    },
    {
      "cell_type": "markdown",
      "source": [
        "**Graphs of the predicted output and actual output**"
      ],
      "metadata": {
        "id": "Ewhxn7Gk4U1r"
      }
    },
    {
      "cell_type": "code",
      "source": [
        "piplot.scatter(X_test, y_test, color='purple', label='Actual')\n",
        "piplot.scatter(X_test, y_pred, color='green', label='Predicted')\n",
        "piplot.xlabel('X')\n",
        "piplot.ylabel('y')\n",
        "piplot.title('Actual vs Predicted Values')\n",
        "piplot.legend()\n",
        "piplot.show()"
      ],
      "metadata": {
        "colab": {
          "base_uri": "https://localhost:8080/",
          "height": 472
        },
        "id": "4BOonWDY43hX",
        "outputId": "b89b7c54-fd7b-4e6f-dd5e-ba5899aad7c7"
      },
      "execution_count": null,
      "outputs": [
        {
          "output_type": "display_data",
          "data": {
            "text/plain": [
              "<Figure size 640x480 with 1 Axes>"
            ],
            "image/png": "[encoded data removed]"
          },
          "metadata": {}
        }
      ]
    }
  ]
}